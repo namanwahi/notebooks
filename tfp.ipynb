{
  "nbformat": 4,
  "nbformat_minor": 0,
  "metadata": {
    "colab": {
      "name": "tfp.ipynb",
      "provenance": [],
      "include_colab_link": true
    },
    "kernelspec": {
      "name": "python3",
      "display_name": "Python 3"
    }
  },
  "cells": [
    {
      "cell_type": "markdown",
      "metadata": {
        "id": "view-in-github",
        "colab_type": "text"
      },
      "source": [
        "<a href=\"https://colab.research.google.com/github/namanwahi/notebooks/blob/main/tfp.ipynb\" target=\"_parent\"><img src=\"https://colab.research.google.com/assets/colab-badge.svg\" alt=\"Open In Colab\"/></a>"
      ]
    },
    {
      "cell_type": "code",
      "metadata": {
        "colab": {
          "base_uri": "https://localhost:8080/"
        },
        "id": "pmOQxW_c61XY",
        "outputId": "c7c92ad3-aa1a-44b6-cd21-1e9f76e18600"
      },
      "source": [
        "% pip install shap\r\n",
        "import tensorflow as tf\r\n",
        "from tensorflow.keras import layers\r\n",
        "import tensorflow_probability as tfp\r\n",
        "import shap\r\n",
        "import numpy as np\r\n",
        "from sklearn.datasets import make_regression\r\n",
        "from sklearn.preprocessing import KBinsDiscretizer\r\n",
        "from sklearn.model_selection import train_test_split\r\n",
        "import matplotlib.pyplot as plt"
      ],
      "execution_count": 1,
      "outputs": [
        {
          "output_type": "stream",
          "text": [
            "Requirement already satisfied: shap in /usr/local/lib/python3.6/dist-packages (0.38.1)\n",
            "Requirement already satisfied: numpy in /usr/local/lib/python3.6/dist-packages (from shap) (1.19.5)\n",
            "Requirement already satisfied: scikit-learn in /usr/local/lib/python3.6/dist-packages (from shap) (0.22.2.post1)\n",
            "Requirement already satisfied: pandas in /usr/local/lib/python3.6/dist-packages (from shap) (1.1.5)\n",
            "Requirement already satisfied: numba in /usr/local/lib/python3.6/dist-packages (from shap) (0.48.0)\n",
            "Requirement already satisfied: cloudpickle in /usr/local/lib/python3.6/dist-packages (from shap) (1.3.0)\n",
            "Requirement already satisfied: scipy in /usr/local/lib/python3.6/dist-packages (from shap) (1.4.1)\n",
            "Requirement already satisfied: tqdm>4.25.0 in /usr/local/lib/python3.6/dist-packages (from shap) (4.41.1)\n",
            "Requirement already satisfied: slicer==0.0.7 in /usr/local/lib/python3.6/dist-packages (from shap) (0.0.7)\n",
            "Requirement already satisfied: joblib>=0.11 in /usr/local/lib/python3.6/dist-packages (from scikit-learn->shap) (1.0.0)\n",
            "Requirement already satisfied: pytz>=2017.2 in /usr/local/lib/python3.6/dist-packages (from pandas->shap) (2018.9)\n",
            "Requirement already satisfied: python-dateutil>=2.7.3 in /usr/local/lib/python3.6/dist-packages (from pandas->shap) (2.8.1)\n",
            "Requirement already satisfied: setuptools in /usr/local/lib/python3.6/dist-packages (from numba->shap) (51.3.3)\n",
            "Requirement already satisfied: llvmlite<0.32.0,>=0.31.0dev0 in /usr/local/lib/python3.6/dist-packages (from numba->shap) (0.31.0)\n",
            "Requirement already satisfied: six>=1.5 in /usr/local/lib/python3.6/dist-packages (from python-dateutil>=2.7.3->pandas->shap) (1.15.0)\n"
          ],
          "name": "stdout"
        }
      ]
    },
    {
      "cell_type": "code",
      "metadata": {
        "id": "U20S9SGZRdrH"
      },
      "source": [
        "N_BINS = 7\r\n",
        "INPUT_SIZE = 15"
      ],
      "execution_count": 2,
      "outputs": []
    },
    {
      "cell_type": "code",
      "metadata": {
        "colab": {
          "base_uri": "https://localhost:8080/"
        },
        "id": "G9gZFpM8AFm9",
        "outputId": "d34af642-b21a-45e7-d5cf-d071ea487ff7"
      },
      "source": [
        "X, y_c = make_regression(\r\n",
        "    n_samples=10000,\r\n",
        "    n_features=INPUT_SIZE,\r\n",
        "    n_informative=6,\r\n",
        "    bias=123.43,\r\n",
        ")\r\n",
        "\r\n",
        "\r\n",
        "discretizer = KBinsDiscretizer(\r\n",
        "    n_bins=N_BINS,\r\n",
        "    encode=\"onehot-dense\",\r\n",
        "    strategy=\"quantile\",\r\n",
        ")\r\n",
        "y = discretizer.fit_transform(y_c.reshape(-1, 1))\r\n",
        "\r\n",
        "X_train, X_test, y_train, y_test = train_test_split(X, y, test_size=5)\r\n",
        "\r\n",
        "X_train = X_train.astype(\"float32\")\r\n",
        "y_train = y_train.astype(\"float32\")\r\n",
        "X_test = X_test.astype(\"float32\")\r\n",
        "y_test = y_test.astype(\"float32\")\r\n",
        "bin_edges = discretizer.bin_edges_[0].astype(\"float32\")\r\n",
        "\r\n",
        "print(X_train.shape)\r\n",
        "print(y_train.shape)\r\n",
        "print(X_test.shape)\r\n",
        "print(y_test.shape)\r\n",
        "print(\"Bin edges \", bin_edges)"
      ],
      "execution_count": 3,
      "outputs": [
        {
          "output_type": "stream",
          "text": [
            "(9995, 15)\n",
            "(9995, 7)\n",
            "(5, 15)\n",
            "(5, 7)\n",
            "Bin edges  [-363.95786   -19.878597   47.898735   99.93195   148.68092   200.53926\n",
            "  270.78287   626.67914 ]\n"
          ],
          "name": "stdout"
        }
      ]
    },
    {
      "cell_type": "code",
      "metadata": {
        "colab": {
          "base_uri": "https://localhost:8080/"
        },
        "id": "iRop4hB8JZeZ",
        "outputId": "7d80f213-d696-45c9-a980-fc3557c09bbf"
      },
      "source": [
        "model = tf.keras.models.Sequential([\r\n",
        "  tf.keras.layers.InputLayer(input_shape=(INPUT_SIZE,)),\r\n",
        "  tf.keras.layers.Dense(30, activation=\"relu\"),\r\n",
        "  tf.keras.layers.Dense(N_BINS, activation=\"softmax\"),\r\n",
        "])\r\n",
        "model.compile(\r\n",
        "    optimizer=tf.keras.optimizers.Adam(learning_rate=0.00001),\r\n",
        "    loss=tf.keras.losses.CategoricalCrossentropy(),\r\n",
        ")\r\n",
        "model.summary()"
      ],
      "execution_count": 4,
      "outputs": [
        {
          "output_type": "stream",
          "text": [
            "Model: \"sequential\"\n",
            "_________________________________________________________________\n",
            "Layer (type)                 Output Shape              Param #   \n",
            "=================================================================\n",
            "dense (Dense)                (None, 30)                480       \n",
            "_________________________________________________________________\n",
            "dense_1 (Dense)              (None, 7)                 217       \n",
            "=================================================================\n",
            "Total params: 697\n",
            "Trainable params: 697\n",
            "Non-trainable params: 0\n",
            "_________________________________________________________________\n"
          ],
          "name": "stdout"
        }
      ]
    },
    {
      "cell_type": "code",
      "metadata": {
        "colab": {
          "base_uri": "https://localhost:8080/"
        },
        "id": "BdY75LO3Qebf",
        "outputId": "5622fddc-ea35-459e-bb13-1a9962bdbbec"
      },
      "source": [
        "model.fit(\r\n",
        "    x=X_train,\r\n",
        "    y=y_train,\r\n",
        "    epochs=1,\r\n",
        "    batch_size=512,\r\n",
        ")"
      ],
      "execution_count": 5,
      "outputs": [
        {
          "output_type": "stream",
          "text": [
            "20/20 [==============================] - 0s 2ms/step - loss: 2.0305\n"
          ],
          "name": "stdout"
        },
        {
          "output_type": "execute_result",
          "data": {
            "text/plain": [
              "<tensorflow.python.keras.callbacks.History at 0x7f3684b98780>"
            ]
          },
          "metadata": {
            "tags": []
          },
          "execution_count": 5
        }
      ]
    },
    {
      "cell_type": "code",
      "metadata": {
        "colab": {
          "base_uri": "https://localhost:8080/"
        },
        "id": "zDGWYfkpS5fo",
        "outputId": "987e8ef3-dc94-42bf-ad3a-534d2a84d0c3"
      },
      "source": [
        "predictions = model.predict(X_test)\r\n",
        "print(predictions.shape)"
      ],
      "execution_count": 6,
      "outputs": [
        {
          "output_type": "stream",
          "text": [
            "(5, 7)\n"
          ],
          "name": "stdout"
        }
      ]
    },
    {
      "cell_type": "code",
      "metadata": {
        "colab": {
          "base_uri": "https://localhost:8080/"
        },
        "id": "In0m1_wZZ3mc",
        "outputId": "da4cf0d0-230b-468e-da11-6f69dbaec0da"
      },
      "source": [
        "print(\"Probability density\", predictions[0].tolist())"
      ],
      "execution_count": 7,
      "outputs": [
        {
          "output_type": "stream",
          "text": [
            "Probability density [0.3422620892524719, 0.0709964781999588, 0.036634381860494614, 0.13245710730552673, 0.10934560000896454, 0.18313659727573395, 0.12516780197620392]\n"
          ],
          "name": "stdout"
        }
      ]
    },
    {
      "cell_type": "code",
      "metadata": {
        "id": "G_npNZ3rBKEW"
      },
      "source": [
        "quantized_dist = tfp.distributions.MixtureSameFamily(\n",
        "    mixture_distribution=tfp.distributions.Categorical(probs=predictions[0]),\n",
        "    components_distribution=tfp.distributions.Uniform(low=bin_edges[:-1], high=bin_edges[1:])\n",
        ")"
      ],
      "execution_count": 8,
      "outputs": []
    },
    {
      "cell_type": "code",
      "metadata": {
        "colab": {
          "base_uri": "https://localhost:8080/",
          "height": 265
        },
        "id": "6wgrlCRPDRL1",
        "outputId": "9618966a-a807-4eda-cf72-32e6eb02ec3f"
      },
      "source": [
        "samples = quantized_dist.sample(sample_shape=(100000,))\n",
        "plt.hist(samples, bins=1000)\n",
        "plt.show()"
      ],
      "execution_count": 9,
      "outputs": [
        {
          "output_type": "display_data",
          "data": {
            "image/png": "[encoded data removed]",
            "text/plain": [
              "<Figure size 432x288 with 1 Axes>"
            ]
          },
          "metadata": {
            "tags": [],
            "needs_background": "light"
          }
        }
      ]
    },
    {
      "cell_type": "code",
      "metadata": {
        "colab": {
          "base_uri": "https://localhost:8080/"
        },
        "id": "lOD4xuHeFY3n",
        "outputId": "069067e3-1ff4-442e-d912-b9b9d8295c9b"
      },
      "source": [
        "quantized_dist.cdf(0.0)\n",
        "#quantized_dist.quantile(0.5)"
      ],
      "execution_count": 10,
      "outputs": [
        {
          "output_type": "execute_result",
          "data": {
            "text/plain": [
              "<tf.Tensor: shape=(), dtype=float32, numpy=0.36308485>"
            ]
          },
          "metadata": {
            "tags": []
          },
          "execution_count": 10
        }
      ]
    },
    {
      "cell_type": "code",
      "metadata": {
        "colab": {
          "base_uri": "https://localhost:8080/"
        },
        "id": "U5mFaPUWIaql",
        "outputId": "3f7c6393-147f-46ca-c483-28910f799467"
      },
      "source": [
        "def sampled_median(probabilities, bin_edges):\n",
        "  batched_bin_edges = np.broadcast_to(bin_edges, (probabilities.shape[0], N_BINS + 1))\n",
        "  quantized_dist = tfp.distributions.MixtureSameFamily(\n",
        "    mixture_distribution=tfp.distributions.Categorical(probs=probabilities),\n",
        "    components_distribution=tfp.distributions.Uniform(low=batched_bin_edges[:, :-1], high=batched_bin_edges[:, 1:])\n",
        "  )\n",
        "\n",
        "  return np.median(quantized_dist.sample(sample_shape=100000).numpy(), axis=0)\n",
        "\n",
        "\n",
        "sampled_median(model(X_test), bin_edges)"
      ],
      "execution_count": 11,
      "outputs": [
        {
          "output_type": "execute_result",
          "data": {
            "text/plain": [
              "array([118.66713, 263.04474, 136.63228, 141.7887 , 176.23161],\n",
              "      dtype=float32)"
            ]
          },
          "metadata": {
            "tags": []
          },
          "execution_count": 11
        }
      ]
    },
    {
      "cell_type": "code",
      "metadata": {
        "colab": {
          "base_uri": "https://localhost:8080/"
        },
        "id": "VH_nR6U7gFFX",
        "outputId": "1f8dd5ec-0e8f-48f6-f502-4ab30e6c5fa9"
      },
      "source": [
        "def quantile(probabilities, bin_edges, quantile):\n",
        "  bin_widths = np.diff(bin_edges)\n",
        "  bin_densities = probabilities / bin_widths\n",
        "\n",
        "  bin_quantiles = tf.cumsum(probabilities, axis=1)\n",
        "\n",
        "  quantile_bin = tf.searchsorted(bin_quantiles, bin_quantiles[:, -1:] * quantile)\n",
        "  \n",
        "  lower_edge = tf.gather_nd(bin_edges, quantile_bin)\n",
        "  higher_edge = tf.gather_nd(bin_edges, quantile_bin + 1)\n",
        "\n",
        "  bin_upper_quantile = tf.gather_nd(bin_quantiles, quantile_bin, batch_dims=1)\n",
        "  bin_density = tf.gather_nd(bin_densities, quantile_bin, batch_dims=1)\n",
        "  bin_width = tf.gather_nd(bin_widths, quantile_bin)\n",
        "\n",
        "  residual = ((bin_upper_quantile - quantile) /  bin_density)\n",
        "\n",
        "  return higher_edge - residual\n",
        "\n",
        "res = quantile(model(X_test), bin_edges, 0.5)\n",
        "print(res)"
      ],
      "execution_count": 17,
      "outputs": [
        {
          "output_type": "stream",
          "text": [
            "tf.Tensor([118.37316 263.1109  136.26602 141.70653 176.20442], shape=(5,), dtype=float32)\n"
          ],
          "name": "stdout"
        }
      ]
    },
    {
      "cell_type": "markdown",
      "metadata": {
        "id": "6kiSNsuzat99"
      },
      "source": [
        ""
      ]
    },
    {
      "cell_type": "code",
      "metadata": {
        "id": "xUJ3SC3Raukj",
        "outputId": "b71dc5ed-08e7-4ff4-c0e5-e5b883a809d4",
        "colab": {
          "base_uri": "https://localhost:8080/"
        }
      },
      "source": [
        "model.add(tf.keras.layers.Lambda(lambda probs: quantile(probs, bin_edges, 0.5)))\n",
        "model.summary()"
      ],
      "execution_count": 18,
      "outputs": [
        {
          "output_type": "stream",
          "text": [
            "Model: \"sequential\"\n",
            "_________________________________________________________________\n",
            "Layer (type)                 Output Shape              Param #   \n",
            "=================================================================\n",
            "dense (Dense)                (None, 30)                480       \n",
            "_________________________________________________________________\n",
            "dense_1 (Dense)              (None, 7)                 217       \n",
            "_________________________________________________________________\n",
            "lambda_2 (Lambda)            (None,)                   0         \n",
            "=================================================================\n",
            "Total params: 697\n",
            "Trainable params: 697\n",
            "Non-trainable params: 0\n",
            "_________________________________________________________________\n"
          ],
          "name": "stdout"
        }
      ]
    },
    {
      "cell_type": "code",
      "metadata": {
        "id": "X1p5yAC-f89_",
        "outputId": "d12ebdfe-f5ce-43f7-efce-4f337fe2eef5",
        "colab": {
          "base_uri": "https://localhost:8080/"
        }
      },
      "source": [
        "explainer = shap.GradientExplainer(model, X_train)\n",
        "shap_values = explainer.shap_values(X_test)"
      ],
      "execution_count": 19,
      "outputs": [
        {
          "output_type": "stream",
          "text": [
            "`tf.keras.backend.set_learning_phase` is deprecated and will be removed after 2020-10-11. To update it, simply pass a True/False value to the `training` argument of the `__call__` method of your layer or model.\n"
          ],
          "name": "stderr"
        }
      ]
    },
    {
      "cell_type": "code",
      "metadata": {
        "id": "eCTklfVMj8ki",
        "outputId": "a0614f7f-c530-4fb5-e0e2-866eda3530b7",
        "colab": {
          "base_uri": "https://localhost:8080/",
          "height": 473
        }
      },
      "source": [
        "shap.summary_plot(shap_values)"
      ],
      "execution_count": 20,
      "outputs": [
        {
          "output_type": "display_data",
          "data": {
            "image/png": "[encoded data removed]",
            "text/plain": [
              "<Figure size 576x540 with 1 Axes>"
            ]
          },
          "metadata": {
            "tags": [],
            "needs_background": "light"
          }
        }
      ]
    },
    {
      "cell_type": "code",
      "metadata": {
        "id": "9h_JqTqStmXY"
      },
      "source": [
        "tf.tile()"
      ],
      "execution_count": null,
      "outputs": []
    }
  ]
}