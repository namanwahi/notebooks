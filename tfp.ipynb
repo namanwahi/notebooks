{
  "nbformat": 4,
  "nbformat_minor": 0,
  "metadata": {
    "colab": {
      "name": "tfp.ipynb",
      "provenance": [],
      "include_colab_link": true
    },
    "kernelspec": {
      "name": "python3",
      "display_name": "Python 3"
    }
  },
  "cells": [
    {
      "cell_type": "markdown",
      "metadata": {
        "id": "view-in-github",
        "colab_type": "text"
      },
      "source": [
        "<a href=\"https://colab.research.google.com/github/namanwahi/notebooks/blob/main/tfp.ipynb\" target=\"_parent\"><img src=\"https://colab.research.google.com/assets/colab-badge.svg\" alt=\"Open In Colab\"/></a>"
      ]
    },
    {
      "cell_type": "code",
      "metadata": {
        "colab": {
          "base_uri": "https://localhost:8080/"
        },
        "id": "pmOQxW_c61XY",
        "outputId": "9d28fa2a-f4fe-477c-a2f6-94410b7d3337"
      },
      "source": [
        "% pip install shap\r\n",
        "import tensorflow as tf\r\n",
        "from tensorflow.keras import layers\r\n",
        "import tensorflow_probability as tfp\r\n",
        "import shap\r\n",
        "import numpy as np\r\n",
        "from sklearn.datasets import make_regression\r\n",
        "from sklearn.preprocessing import KBinsDiscretizer\r\n",
        "from sklearn.model_selection import train_test_split\r\n",
        "import matplotlib.pyplot as plt"
      ],
      "execution_count": 1,
      "outputs": [
        {
          "output_type": "stream",
          "text": [
            "Requirement already satisfied: shap in /usr/local/lib/python3.6/dist-packages (0.38.1)\n",
            "Requirement already satisfied: scipy in /usr/local/lib/python3.6/dist-packages (from shap) (1.4.1)\n",
            "Requirement already satisfied: numpy in /usr/local/lib/python3.6/dist-packages (from shap) (1.19.5)\n",
            "Requirement already satisfied: numba in /usr/local/lib/python3.6/dist-packages (from shap) (0.48.0)\n",
            "Requirement already satisfied: slicer==0.0.7 in /usr/local/lib/python3.6/dist-packages (from shap) (0.0.7)\n",
            "Requirement already satisfied: pandas in /usr/local/lib/python3.6/dist-packages (from shap) (1.1.5)\n",
            "Requirement already satisfied: scikit-learn in /usr/local/lib/python3.6/dist-packages (from shap) (0.22.2.post1)\n",
            "Requirement already satisfied: tqdm>4.25.0 in /usr/local/lib/python3.6/dist-packages (from shap) (4.41.1)\n",
            "Requirement already satisfied: cloudpickle in /usr/local/lib/python3.6/dist-packages (from shap) (1.3.0)\n",
            "Requirement already satisfied: llvmlite<0.32.0,>=0.31.0dev0 in /usr/local/lib/python3.6/dist-packages (from numba->shap) (0.31.0)\n",
            "Requirement already satisfied: setuptools in /usr/local/lib/python3.6/dist-packages (from numba->shap) (51.3.3)\n",
            "Requirement already satisfied: pytz>=2017.2 in /usr/local/lib/python3.6/dist-packages (from pandas->shap) (2018.9)\n",
            "Requirement already satisfied: python-dateutil>=2.7.3 in /usr/local/lib/python3.6/dist-packages (from pandas->shap) (2.8.1)\n",
            "Requirement already satisfied: joblib>=0.11 in /usr/local/lib/python3.6/dist-packages (from scikit-learn->shap) (1.0.0)\n",
            "Requirement already satisfied: six>=1.5 in /usr/local/lib/python3.6/dist-packages (from python-dateutil>=2.7.3->pandas->shap) (1.15.0)\n"
          ],
          "name": "stdout"
        }
      ]
    },
    {
      "cell_type": "code",
      "metadata": {
        "id": "U20S9SGZRdrH"
      },
      "source": [
        "N_BINS = 2\r\n",
        "INPUT_SIZE = 15"
      ],
      "execution_count": 2,
      "outputs": []
    },
    {
      "cell_type": "code",
      "metadata": {
        "colab": {
          "base_uri": "https://localhost:8080/"
        },
        "id": "G9gZFpM8AFm9",
        "outputId": "2fd57a62-2e23-4357-aed1-fc6370c9e4a4"
      },
      "source": [
        "X, y_c = make_regression(\r\n",
        "    n_samples=100000,\r\n",
        "    n_features=INPUT_SIZE,\r\n",
        "    n_informative=6,\r\n",
        "    bias=123.43,\r\n",
        ")\r\n",
        "\r\n",
        "\r\n",
        "discretizer = KBinsDiscretizer(\r\n",
        "    n_bins=N_BINS,\r\n",
        "    encode=\"onehot-dense\",\r\n",
        "    strategy=\"quantile\",\r\n",
        ")\r\n",
        "y = discretizer.fit_transform(y_c.reshape(-1, 1))\r\n",
        "\r\n",
        "X_train, X_test, y_train, y_test = train_test_split(X, y, test_size=1)\r\n",
        "\r\n",
        "X_train = X_train.astype(\"float32\")\r\n",
        "y_train = y_train.astype(\"float32\")\r\n",
        "X_test = X_test.astype(\"float32\")\r\n",
        "y_test = y_test.astype(\"float32\")\r\n",
        "bin_edges = discretizer.bin_edges_[0].astype(\"float32\")\r\n",
        "\r\n",
        "print(X_train.shape)\r\n",
        "print(y_train.shape)\r\n",
        "print(X_test.shape)\r\n",
        "print(y_test.shape)\r\n",
        "print(\"Bin edges \", bin_edges)"
      ],
      "execution_count": 3,
      "outputs": [
        {
          "output_type": "stream",
          "text": [
            "(99999, 15)\n",
            "(99999, 2)\n",
            "(1, 15)\n",
            "(1, 2)\n",
            "Bin edges  [-397.87222  122.54631  607.1279 ]\n"
          ],
          "name": "stdout"
        }
      ]
    },
    {
      "cell_type": "code",
      "metadata": {
        "colab": {
          "base_uri": "https://localhost:8080/"
        },
        "id": "iRop4hB8JZeZ",
        "outputId": "a83cae5a-c6dd-4c85-d500-37c1714a37ff"
      },
      "source": [
        "model = tf.keras.models.Sequential([\r\n",
        "  tf.keras.layers.InputLayer(input_shape=(INPUT_SIZE,)),\r\n",
        "  tf.keras.layers.Dense(30, activation=\"relu\"),\r\n",
        "  tf.keras.layers.Dense(N_BINS, activation=\"softmax\"),\r\n",
        "])\r\n",
        "model.compile(\r\n",
        "    optimizer=tf.keras.optimizers.Adam(learning_rate=0.00001),\r\n",
        "    loss=tf.keras.losses.CategoricalCrossentropy(),\r\n",
        ")\r\n",
        "model.summary()"
      ],
      "execution_count": 4,
      "outputs": [
        {
          "output_type": "stream",
          "text": [
            "Model: \"sequential\"\n",
            "_________________________________________________________________\n",
            "Layer (type)                 Output Shape              Param #   \n",
            "=================================================================\n",
            "dense (Dense)                (None, 30)                480       \n",
            "_________________________________________________________________\n",
            "dense_1 (Dense)              (None, 2)                 62        \n",
            "=================================================================\n",
            "Total params: 542\n",
            "Trainable params: 542\n",
            "Non-trainable params: 0\n",
            "_________________________________________________________________\n"
          ],
          "name": "stdout"
        }
      ]
    },
    {
      "cell_type": "code",
      "metadata": {
        "colab": {
          "base_uri": "https://localhost:8080/"
        },
        "id": "BdY75LO3Qebf",
        "outputId": "fa129d81-489d-4c68-e59a-0a3177786e76"
      },
      "source": [
        "model.fit(\r\n",
        "    x=X_train,\r\n",
        "    y=y_train,\r\n",
        "    epochs=1,\r\n",
        "    batch_size=512,\r\n",
        ")"
      ],
      "execution_count": 5,
      "outputs": [
        {
          "output_type": "stream",
          "text": [
            "196/196 [==============================] - 1s 1ms/step - loss: 0.7472\n"
          ],
          "name": "stdout"
        },
        {
          "output_type": "execute_result",
          "data": {
            "text/plain": [
              "<tensorflow.python.keras.callbacks.History at 0x7fba5dab35c0>"
            ]
          },
          "metadata": {
            "tags": []
          },
          "execution_count": 5
        }
      ]
    },
    {
      "cell_type": "code",
      "metadata": {
        "colab": {
          "base_uri": "https://localhost:8080/"
        },
        "id": "zDGWYfkpS5fo",
        "outputId": "397f410a-a81c-4e1f-a237-7bdbae03d212"
      },
      "source": [
        "predictions = model.predict(X_test)\r\n",
        "print(predictions.shape)"
      ],
      "execution_count": 6,
      "outputs": [
        {
          "output_type": "stream",
          "text": [
            "(1, 2)\n"
          ],
          "name": "stdout"
        }
      ]
    },
    {
      "cell_type": "code",
      "metadata": {
        "colab": {
          "base_uri": "https://localhost:8080/"
        },
        "id": "In0m1_wZZ3mc",
        "outputId": "a83990ae-fab6-4b7e-c78a-5f13971e96fb"
      },
      "source": [
        "print(\"Probability density\", predictions[0].tolist())"
      ],
      "execution_count": 7,
      "outputs": [
        {
          "output_type": "stream",
          "text": [
            "Probability density [0.8147589564323425, 0.18524113297462463]\n"
          ],
          "name": "stdout"
        }
      ]
    },
    {
      "cell_type": "code",
      "metadata": {
        "id": "G_npNZ3rBKEW"
      },
      "source": [
        "quantized_dist = tfp.distributions.MixtureSameFamily(\n",
        "    mixture_distribution=tfp.distributions.Categorical(probs=predictions[0]),\n",
        "    components_distribution=tfp.distributions.Uniform(low=bin_edges[:-1], high=bin_edges[1:])\n",
        ")"
      ],
      "execution_count": 8,
      "outputs": []
    },
    {
      "cell_type": "code",
      "metadata": {
        "colab": {
          "base_uri": "https://localhost:8080/",
          "height": 265
        },
        "id": "6wgrlCRPDRL1",
        "outputId": "fb33c146-faa6-4ac7-c06f-36ff085244b7"
      },
      "source": [
        "samples = quantized_dist.sample(sample_shape=(1000000,))\n",
        "plt.hist(samples, bins=1000)\n",
        "plt.show()"
      ],
      "execution_count": 9,
      "outputs": [
        {
          "output_type": "display_data",
          "data": {
            "image/png": "[encoded data removed]",
            "text/plain": [
              "<Figure size 432x288 with 1 Axes>"
            ]
          },
          "metadata": {
            "tags": [],
            "needs_background": "light"
          }
        }
      ]
    },
    {
      "cell_type": "code",
      "metadata": {
        "colab": {
          "base_uri": "https://localhost:8080/"
        },
        "id": "lOD4xuHeFY3n",
        "outputId": "56e117dd-99e3-46a4-dcf6-7f47098c313a"
      },
      "source": [
        "quantized_dist.cdf(0.0)\n",
        "#quantized_dist.quantile(0.5)"
      ],
      "execution_count": 10,
      "outputs": [
        {
          "output_type": "execute_result",
          "data": {
            "text/plain": [
              "<tf.Tensor: shape=(), dtype=float32, numpy=0.6229024>"
            ]
          },
          "metadata": {
            "tags": []
          },
          "execution_count": 10
        }
      ]
    },
    {
      "cell_type": "code",
      "metadata": {
        "colab": {
          "base_uri": "https://localhost:8080/"
        },
        "id": "U5mFaPUWIaql",
        "outputId": "e9fcf638-8579-4a61-f2e1-b39537f2ffa2"
      },
      "source": [
        "def sampled_median(X, bin_edges, model):\n",
        "  probabilities = model(X)\n",
        "  batched_bin_edges = np.broadcast_to(bin_edges, (X.shape[0], N_BINS + 1))\n",
        "  quantized_dist = tfp.distributions.MixtureSameFamily(\n",
        "    mixture_distribution=tfp.distributions.Categorical(probs=probabilities),\n",
        "    components_distribution=tfp.distributions.Uniform(low=batched_bin_edges[:, :-1], high=batched_bin_edges[:, 1:])\n",
        "  )\n",
        "\n",
        "  return np.median(quantized_dist.sample(sample_shape=100000000).numpy(), axis=0)\n",
        "\n",
        "\n",
        "sampled_median(X_test, bin_edges, model)"
      ],
      "execution_count": 36,
      "outputs": [
        {
          "output_type": "execute_result",
          "data": {
            "text/plain": [
              "array([-78.49063], dtype=float32)"
            ]
          },
          "metadata": {
            "tags": []
          },
          "execution_count": 36
        }
      ]
    },
    {
      "cell_type": "code",
      "metadata": {
        "colab": {
          "base_uri": "https://localhost:8080/"
        },
        "id": "VH_nR6U7gFFX",
        "outputId": "404b86f3-d452-45dd-e2dc-dd5b893c39ee"
      },
      "source": [
        "def analytic_median(X, bin_edges, model):\n",
        "  probabilities = model(X)\n",
        "  bin_widths = np.diff(bin_edges)\n",
        "  bin_densities = probabilities / bin_widths\n",
        "\n",
        "  bin_qualtiles = tf.cumsum(probabilities, axis=1)\n",
        "\n",
        "  median_bin = tf.searchsorted(bin_qualtiles[:, -1] / 2, tf.expand_dims(bin_qualtiles[:, -1] / 2, 1))\n",
        "  \n",
        "  lower_edge = tf.gather_nd(bin_edges, median_bin)\n",
        "  higher_edge = tf.gather_nd(bin_edges, median_bin + 1)\n",
        "\n",
        "  bin_upper_quantile = tf.gather_nd(bin_qualtiles, median_bin, batch_dims=1)\n",
        "  bin_density = tf.gather_nd(bin_densities, median_bin, batch_dims=1)\n",
        "  bin_width = tf.gather_nd(bin_widths, median_bin)\n",
        "\n",
        "  residual = ((bin_upper_quantile - 0.5) /  bin_density)\n",
        "\n",
        "  return higher_edge - residual\n",
        "\n",
        "res = analytic_median(X_test, bin_edges, model)\n",
        "print(res)"
      ],
      "execution_count": 35,
      "outputs": [
        {
          "output_type": "stream",
          "text": [
            "tf.Tensor([-78.502594], shape=(1,), dtype=float32)\n"
          ],
          "name": "stdout"
        }
      ]
    },
    {
      "cell_type": "markdown",
      "metadata": {
        "id": "6kiSNsuzat99"
      },
      "source": [
        ""
      ]
    },
    {
      "cell_type": "code",
      "metadata": {
        "id": "xUJ3SC3Raukj"
      },
      "source": [
        ""
      ],
      "execution_count": 12,
      "outputs": []
    }
  ]
}