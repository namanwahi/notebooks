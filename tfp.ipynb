{
  "nbformat": 4,
  "nbformat_minor": 0,
  "metadata": {
    "colab": {
      "name": "tfp.ipynb",
      "provenance": [],
      "include_colab_link": true
    },
    "kernelspec": {
      "name": "python3",
      "display_name": "Python 3"
    }
  },
  "cells": [
    {
      "cell_type": "markdown",
      "metadata": {
        "id": "view-in-github",
        "colab_type": "text"
      },
      "source": [
        "<a href=\"https://colab.research.google.com/github/namanwahi/notebooks/blob/main/tfp.ipynb\" target=\"_parent\"><img src=\"https://colab.research.google.com/assets/colab-badge.svg\" alt=\"Open In Colab\"/></a>"
      ]
    },
    {
      "cell_type": "code",
      "metadata": {
        "colab": {
          "base_uri": "https://localhost:8080/"
        },
        "id": "pmOQxW_c61XY",
        "outputId": "f9b0bc02-4aa7-4f20-d155-54acedc32e4e"
      },
      "source": [
        "% pip install shap\r\n",
        "import tensorflow as tf\r\n",
        "from tensorflow.keras import layers\r\n",
        "import tensorflow_probability as tfp\r\n",
        "import shap\r\n",
        "import numpy as np\r\n",
        "from sklearn.datasets import make_regression\r\n",
        "from sklearn.preprocessing import KBinsDiscretizer\r\n",
        "from sklearn.model_selection import train_test_split\r\n",
        "import matplotlib.pyplot as plt"
      ],
      "execution_count": 1,
      "outputs": [
        {
          "output_type": "stream",
          "text": [
            "Requirement already satisfied: shap in /usr/local/lib/python3.6/dist-packages (0.38.1)\n",
            "Requirement already satisfied: slicer==0.0.7 in /usr/local/lib/python3.6/dist-packages (from shap) (0.0.7)\n",
            "Requirement already satisfied: tqdm>4.25.0 in /usr/local/lib/python3.6/dist-packages (from shap) (4.41.1)\n",
            "Requirement already satisfied: scikit-learn in /usr/local/lib/python3.6/dist-packages (from shap) (0.22.2.post1)\n",
            "Requirement already satisfied: pandas in /usr/local/lib/python3.6/dist-packages (from shap) (1.1.5)\n",
            "Requirement already satisfied: cloudpickle in /usr/local/lib/python3.6/dist-packages (from shap) (1.3.0)\n",
            "Requirement already satisfied: numpy in /usr/local/lib/python3.6/dist-packages (from shap) (1.19.5)\n",
            "Requirement already satisfied: scipy in /usr/local/lib/python3.6/dist-packages (from shap) (1.4.1)\n",
            "Requirement already satisfied: numba in /usr/local/lib/python3.6/dist-packages (from shap) (0.48.0)\n",
            "Requirement already satisfied: joblib>=0.11 in /usr/local/lib/python3.6/dist-packages (from scikit-learn->shap) (1.0.0)\n",
            "Requirement already satisfied: pytz>=2017.2 in /usr/local/lib/python3.6/dist-packages (from pandas->shap) (2018.9)\n",
            "Requirement already satisfied: python-dateutil>=2.7.3 in /usr/local/lib/python3.6/dist-packages (from pandas->shap) (2.8.1)\n",
            "Requirement already satisfied: setuptools in /usr/local/lib/python3.6/dist-packages (from numba->shap) (51.3.3)\n",
            "Requirement already satisfied: llvmlite<0.32.0,>=0.31.0dev0 in /usr/local/lib/python3.6/dist-packages (from numba->shap) (0.31.0)\n",
            "Requirement already satisfied: six>=1.5 in /usr/local/lib/python3.6/dist-packages (from python-dateutil>=2.7.3->pandas->shap) (1.15.0)\n"
          ],
          "name": "stdout"
        }
      ]
    },
    {
      "cell_type": "code",
      "metadata": {
        "id": "U20S9SGZRdrH"
      },
      "source": [
        "N_BINS = 7\r\n",
        "INPUT_SIZE = 15"
      ],
      "execution_count": 2,
      "outputs": []
    },
    {
      "cell_type": "code",
      "metadata": {
        "colab": {
          "base_uri": "https://localhost:8080/"
        },
        "id": "G9gZFpM8AFm9",
        "outputId": "f8729cc2-7714-44d5-a8b9-6a38ca1a9089"
      },
      "source": [
        "X, y_c = make_regression(\r\n",
        "    n_samples=100000,\r\n",
        "    n_features=INPUT_SIZE,\r\n",
        "    n_informative=6,\r\n",
        "    bias=123.43,\r\n",
        ")\r\n",
        "\r\n",
        "\r\n",
        "discretizer = KBinsDiscretizer(\r\n",
        "    n_bins=N_BINS,\r\n",
        "    encode=\"onehot-dense\",\r\n",
        "    strategy=\"quantile\",\r\n",
        ")\r\n",
        "y = discretizer.fit_transform(y_c.reshape(-1, 1))\r\n",
        "\r\n",
        "X_train, X_test, y_train, y_test = train_test_split(X, y, test_size=5)\r\n",
        "\r\n",
        "X_train = X_train.astype(\"float32\")\r\n",
        "y_train = y_train.astype(\"float32\")\r\n",
        "X_test = X_test.astype(\"float32\")\r\n",
        "y_test = y_test.astype(\"float32\")\r\n",
        "bin_edges = discretizer.bin_edges_[0].astype(\"float32\")\r\n",
        "\r\n",
        "print(X_train.shape)\r\n",
        "print(y_train.shape)\r\n",
        "print(X_test.shape)\r\n",
        "print(y_test.shape)\r\n",
        "print(\"Bin edges \", bin_edges)"
      ],
      "execution_count": 3,
      "outputs": [
        {
          "output_type": "stream",
          "text": [
            "(99995, 15)\n",
            "(99995, 7)\n",
            "(5, 15)\n",
            "(5, 7)\n",
            "Bin edges  [-588.66188933  -51.23545982   30.76986534   93.92907141  154.22114523\n",
            "  217.80052826  300.55179401  822.02335967]\n"
          ],
          "name": "stdout"
        }
      ]
    },
    {
      "cell_type": "code",
      "metadata": {
        "colab": {
          "base_uri": "https://localhost:8080/"
        },
        "id": "iRop4hB8JZeZ",
        "outputId": "5ff6b61c-3106-44eb-e0d4-6753bf049f4c"
      },
      "source": [
        "model = tf.keras.models.Sequential([\r\n",
        "  tf.keras.layers.InputLayer(input_shape=(INPUT_SIZE,)),\r\n",
        "  tf.keras.layers.Dense(30, activation=\"relu\"),\r\n",
        "  tf.keras.layers.Dense(N_BINS, activation=\"softmax\"),\r\n",
        "])\r\n",
        "model.compile(\r\n",
        "    optimizer=tf.keras.optimizers.Adam(learning_rate=0.00001),\r\n",
        "    loss=tf.keras.losses.CategoricalCrossentropy(),\r\n",
        ")\r\n",
        "model.summary()"
      ],
      "execution_count": 4,
      "outputs": [
        {
          "output_type": "stream",
          "text": [
            "Model: \"sequential\"\n",
            "_________________________________________________________________\n",
            "Layer (type)                 Output Shape              Param #   \n",
            "=================================================================\n",
            "dense (Dense)                (None, 30)                480       \n",
            "_________________________________________________________________\n",
            "dense_1 (Dense)              (None, 7)                 217       \n",
            "=================================================================\n",
            "Total params: 697\n",
            "Trainable params: 697\n",
            "Non-trainable params: 0\n",
            "_________________________________________________________________\n"
          ],
          "name": "stdout"
        }
      ]
    },
    {
      "cell_type": "code",
      "metadata": {
        "colab": {
          "base_uri": "https://localhost:8080/"
        },
        "id": "BdY75LO3Qebf",
        "outputId": "fb4446b5-e43e-44f7-a781-44dc2911cf3d"
      },
      "source": [
        "model.fit(\r\n",
        "    x=X_train,\r\n",
        "    y=y_train,\r\n",
        "    epochs=1,\r\n",
        "    batch_size=512,\r\n",
        ")"
      ],
      "execution_count": 5,
      "outputs": [
        {
          "output_type": "stream",
          "text": [
            "196/196 [==============================] - 0s 1ms/step - loss: 2.1062\n"
          ],
          "name": "stdout"
        },
        {
          "output_type": "execute_result",
          "data": {
            "text/plain": [
              "<tensorflow.python.keras.callbacks.History at 0x7f5b15e565c0>"
            ]
          },
          "metadata": {
            "tags": []
          },
          "execution_count": 5
        }
      ]
    },
    {
      "cell_type": "code",
      "metadata": {
        "colab": {
          "base_uri": "https://localhost:8080/"
        },
        "id": "zDGWYfkpS5fo",
        "outputId": "c5b8656f-2186-4357-8486-40dc002d4494"
      },
      "source": [
        "predictions = model.predict(X_test)\r\n",
        "print(predictions.shape)"
      ],
      "execution_count": 6,
      "outputs": [
        {
          "output_type": "stream",
          "text": [
            "(5, 7)\n"
          ],
          "name": "stdout"
        }
      ]
    },
    {
      "cell_type": "code",
      "metadata": {
        "colab": {
          "base_uri": "https://localhost:8080/"
        },
        "id": "In0m1_wZZ3mc",
        "outputId": "0adc52b3-be70-4f44-9569-337451878810"
      },
      "source": [
        "print(\"Probability density\", predictions[0].tolist())"
      ],
      "execution_count": 7,
      "outputs": [
        {
          "output_type": "stream",
          "text": [
            "Probability density [0.0736200362443924, 0.14444173872470856, 0.13637690246105194, 0.2327083945274353, 0.21384119987487793, 0.09487288445234299, 0.1041388213634491]\n"
          ],
          "name": "stdout"
        }
      ]
    },
    {
      "cell_type": "code",
      "metadata": {
        "id": "G_npNZ3rBKEW"
      },
      "source": [
        "quantized_dist = tfp.distributions.MixtureSameFamily(\n",
        "    mixture_distribution=tfp.distributions.Categorical(probs=predictions[0]),\n",
        "    components_distribution=tfp.distributions.Uniform(low=discretizer.bin_edges_[0][:-1].astype(\"float32\"), high=discretizer.bin_edges_[0][1:].astype(\"float32\"))\n",
        ")"
      ],
      "execution_count": 8,
      "outputs": []
    },
    {
      "cell_type": "code",
      "metadata": {
        "id": "6wgrlCRPDRL1",
        "outputId": "9439b822-7d93-45ec-b79c-3aeac9c8b1d1",
        "colab": {
          "base_uri": "https://localhost:8080/",
          "height": 265
        }
      },
      "source": [
        "samples = quantized_dist.sample(sample_shape=(1000000,))\n",
        "plt.hist(samples, bins=1000)\n",
        "plt.show()"
      ],
      "execution_count": 9,
      "outputs": [
        {
          "output_type": "display_data",
          "data": {
            "image/png": "[encoded data removed]",
            "text/plain": [
              "<Figure size 432x288 with 1 Axes>"
            ]
          },
          "metadata": {
            "tags": [],
            "needs_background": "light"
          }
        }
      ]
    },
    {
      "cell_type": "code",
      "metadata": {
        "id": "lOD4xuHeFY3n",
        "outputId": "923b72f3-b0bf-4638-fe38-f38f2a7ed72c",
        "colab": {
          "base_uri": "https://localhost:8080/",
          "height": 328
        }
      },
      "source": [
        "quantized_dist.cdf(0.0)\n",
        "quantized_dist.quantile(0.5)"
      ],
      "execution_count": 11,
      "outputs": [
        {
          "output_type": "error",
          "ename": "NotImplementedError",
          "evalue": "ignored",
          "traceback": [
            "\u001b[0;31m---------------------------------------------------------------------------\u001b[0m",
            "\u001b[0;31mNotImplementedError\u001b[0m                       Traceback (most recent call last)",
            "\u001b[0;32m<ipython-input-11-85744579724a>\u001b[0m in \u001b[0;36m<module>\u001b[0;34m()\u001b[0m\n\u001b[1;32m      1\u001b[0m \u001b[0mquantized_dist\u001b[0m\u001b[0;34m.\u001b[0m\u001b[0mcdf\u001b[0m\u001b[0;34m(\u001b[0m\u001b[0;36m0.0\u001b[0m\u001b[0;34m)\u001b[0m\u001b[0;34m\u001b[0m\u001b[0;34m\u001b[0m\u001b[0m\n\u001b[0;32m----> 2\u001b[0;31m \u001b[0mquantized_dist\u001b[0m\u001b[0;34m.\u001b[0m\u001b[0mquantile\u001b[0m\u001b[0;34m(\u001b[0m\u001b[0;36m0.5\u001b[0m\u001b[0;34m)\u001b[0m\u001b[0;34m\u001b[0m\u001b[0;34m\u001b[0m\u001b[0m\n\u001b[0m",
            "\u001b[0;32m/usr/local/lib/python3.6/dist-packages/tensorflow_probability/python/distributions/distribution.py\u001b[0m in \u001b[0;36mquantile\u001b[0;34m(self, value, name, **kwargs)\u001b[0m\n\u001b[1;32m   1272\u001b[0m         \u001b[0mvalues\u001b[0m \u001b[0mof\u001b[0m \u001b[0mtype\u001b[0m\u001b[0;31m \u001b[0m\u001b[0;31m`\u001b[0m\u001b[0mself\u001b[0m\u001b[0;34m.\u001b[0m\u001b[0mdtype\u001b[0m\u001b[0;31m`\u001b[0m\u001b[0;34m.\u001b[0m\u001b[0;34m\u001b[0m\u001b[0;34m\u001b[0m\u001b[0m\n\u001b[1;32m   1273\u001b[0m     \"\"\"\n\u001b[0;32m-> 1274\u001b[0;31m     \u001b[0;32mreturn\u001b[0m \u001b[0mself\u001b[0m\u001b[0;34m.\u001b[0m\u001b[0m_call_quantile\u001b[0m\u001b[0;34m(\u001b[0m\u001b[0mvalue\u001b[0m\u001b[0;34m,\u001b[0m \u001b[0mname\u001b[0m\u001b[0;34m,\u001b[0m \u001b[0;34m**\u001b[0m\u001b[0mkwargs\u001b[0m\u001b[0;34m)\u001b[0m\u001b[0;34m\u001b[0m\u001b[0;34m\u001b[0m\u001b[0m\n\u001b[0m\u001b[1;32m   1275\u001b[0m \u001b[0;34m\u001b[0m\u001b[0m\n\u001b[1;32m   1276\u001b[0m   \u001b[0;32mdef\u001b[0m \u001b[0m_variance\u001b[0m\u001b[0;34m(\u001b[0m\u001b[0mself\u001b[0m\u001b[0;34m,\u001b[0m \u001b[0;34m**\u001b[0m\u001b[0mkwargs\u001b[0m\u001b[0;34m)\u001b[0m\u001b[0;34m:\u001b[0m\u001b[0;34m\u001b[0m\u001b[0;34m\u001b[0m\u001b[0m\n",
            "\u001b[0;32m/usr/local/lib/python3.6/dist-packages/tensorflow_probability/python/distributions/distribution.py\u001b[0m in \u001b[0;36m_call_quantile\u001b[0;34m(self, value, name, **kwargs)\u001b[0m\n\u001b[1;32m   1252\u001b[0m                                              message='`value` must be >= 0')\n\u001b[1;32m   1253\u001b[0m         ], value)\n\u001b[0;32m-> 1254\u001b[0;31m       \u001b[0;32mreturn\u001b[0m \u001b[0mself\u001b[0m\u001b[0;34m.\u001b[0m\u001b[0m_quantile\u001b[0m\u001b[0;34m(\u001b[0m\u001b[0mvalue\u001b[0m\u001b[0;34m,\u001b[0m \u001b[0;34m**\u001b[0m\u001b[0mkwargs\u001b[0m\u001b[0;34m)\u001b[0m\u001b[0;34m\u001b[0m\u001b[0;34m\u001b[0m\u001b[0m\n\u001b[0m\u001b[1;32m   1255\u001b[0m \u001b[0;34m\u001b[0m\u001b[0m\n\u001b[1;32m   1256\u001b[0m   \u001b[0;32mdef\u001b[0m \u001b[0mquantile\u001b[0m\u001b[0;34m(\u001b[0m\u001b[0mself\u001b[0m\u001b[0;34m,\u001b[0m \u001b[0mvalue\u001b[0m\u001b[0;34m,\u001b[0m \u001b[0mname\u001b[0m\u001b[0;34m=\u001b[0m\u001b[0;34m'quantile'\u001b[0m\u001b[0;34m,\u001b[0m \u001b[0;34m**\u001b[0m\u001b[0mkwargs\u001b[0m\u001b[0;34m)\u001b[0m\u001b[0;34m:\u001b[0m\u001b[0;34m\u001b[0m\u001b[0;34m\u001b[0m\u001b[0m\n",
            "\u001b[0;32m/usr/local/lib/python3.6/dist-packages/tensorflow_probability/python/distributions/distribution.py\u001b[0m in \u001b[0;36m_quantile\u001b[0;34m(self, value, **kwargs)\u001b[0m\n\u001b[1;32m   1239\u001b[0m   \u001b[0;32mdef\u001b[0m \u001b[0m_quantile\u001b[0m\u001b[0;34m(\u001b[0m\u001b[0mself\u001b[0m\u001b[0;34m,\u001b[0m \u001b[0mvalue\u001b[0m\u001b[0;34m,\u001b[0m \u001b[0;34m**\u001b[0m\u001b[0mkwargs\u001b[0m\u001b[0;34m)\u001b[0m\u001b[0;34m:\u001b[0m\u001b[0;34m\u001b[0m\u001b[0;34m\u001b[0m\u001b[0m\n\u001b[1;32m   1240\u001b[0m     raise NotImplementedError('quantile is not implemented: {}'.format(\n\u001b[0;32m-> 1241\u001b[0;31m         type(self).__name__))\n\u001b[0m\u001b[1;32m   1242\u001b[0m \u001b[0;34m\u001b[0m\u001b[0m\n\u001b[1;32m   1243\u001b[0m   \u001b[0;32mdef\u001b[0m \u001b[0m_call_quantile\u001b[0m\u001b[0;34m(\u001b[0m\u001b[0mself\u001b[0m\u001b[0;34m,\u001b[0m \u001b[0mvalue\u001b[0m\u001b[0;34m,\u001b[0m \u001b[0mname\u001b[0m\u001b[0;34m,\u001b[0m \u001b[0;34m**\u001b[0m\u001b[0mkwargs\u001b[0m\u001b[0;34m)\u001b[0m\u001b[0;34m:\u001b[0m\u001b[0;34m\u001b[0m\u001b[0;34m\u001b[0m\u001b[0m\n",
            "\u001b[0;31mNotImplementedError\u001b[0m: quantile is not implemented: MixtureSameFamily"
          ]
        }
      ]
    },
    {
      "cell_type": "code",
      "metadata": {
        "id": "U5mFaPUWIaql"
      },
      "source": [
        "def sampled_median(bin_edges, probabilities):\n",
        "  quantized_dist = tfp.distributions.MixtureSameFamily(\n",
        "    mixture_distribution=tfp.distributions.Categorical(probs=predictions[0]),\n",
        "    components_distribution=tfp.distributions.Uniform(low=discretizer.bin_edges_[0][:-1].astype(\"float32\"), high=discretizer.bin_edges_[0][1:].astype(\"float32\"))\n",
        "  )\n",
        "\n",
        "def analytic_median():\n"
      ],
      "execution_count": null,
      "outputs": []
    }
  ]
}