{
  "nbformat": 4,
  "nbformat_minor": 0,
  "metadata": {
    "colab": {
      "name": "tfp.ipynb",
      "provenance": [],
      "include_colab_link": true
    },
    "kernelspec": {
      "name": "python3",
      "display_name": "Python 3"
    }
  },
  "cells": [
    {
      "cell_type": "markdown",
      "metadata": {
        "id": "view-in-github",
        "colab_type": "text"
      },
      "source": [
        "<a href=\"https://colab.research.google.com/github/namanwahi/notebooks/blob/main/tfp.ipynb\" target=\"_parent\"><img src=\"https://colab.research.google.com/assets/colab-badge.svg\" alt=\"Open In Colab\"/></a>"
      ]
    },
    {
      "cell_type": "code",
      "metadata": {
        "colab": {
          "base_uri": "https://localhost:8080/"
        },
        "id": "pmOQxW_c61XY",
        "outputId": "43571dc3-9329-4642-ce76-eb52ee499b7a"
      },
      "source": [
        "% pip install shap\r\n",
        "import tensorflow as tf\r\n",
        "from tensorflow.keras import layers\r\n",
        "import tensorflow_probability as tfp\r\n",
        "import shap\r\n",
        "import numpy as np\r\n",
        "from sklearn.datasets import make_regression\r\n",
        "from sklearn.preprocessing import KBinsDiscretizer\r\n",
        "from sklearn.model_selection import train_test_split\r\n",
        "import matplotlib.pyplot as plt"
      ],
      "execution_count": 1,
      "outputs": [
        {
          "output_type": "stream",
          "text": [
            "Requirement already satisfied: shap in /usr/local/lib/python3.6/dist-packages (0.38.1)\n",
            "Requirement already satisfied: slicer==0.0.7 in /usr/local/lib/python3.6/dist-packages (from shap) (0.0.7)\n",
            "Requirement already satisfied: numba in /usr/local/lib/python3.6/dist-packages (from shap) (0.48.0)\n",
            "Requirement already satisfied: pandas in /usr/local/lib/python3.6/dist-packages (from shap) (1.1.5)\n",
            "Requirement already satisfied: scipy in /usr/local/lib/python3.6/dist-packages (from shap) (1.4.1)\n",
            "Requirement already satisfied: numpy in /usr/local/lib/python3.6/dist-packages (from shap) (1.19.5)\n",
            "Requirement already satisfied: cloudpickle in /usr/local/lib/python3.6/dist-packages (from shap) (1.3.0)\n",
            "Requirement already satisfied: tqdm>4.25.0 in /usr/local/lib/python3.6/dist-packages (from shap) (4.41.1)\n",
            "Requirement already satisfied: scikit-learn in /usr/local/lib/python3.6/dist-packages (from shap) (0.22.2.post1)\n",
            "Requirement already satisfied: setuptools in /usr/local/lib/python3.6/dist-packages (from numba->shap) (51.3.3)\n",
            "Requirement already satisfied: llvmlite<0.32.0,>=0.31.0dev0 in /usr/local/lib/python3.6/dist-packages (from numba->shap) (0.31.0)\n",
            "Requirement already satisfied: pytz>=2017.2 in /usr/local/lib/python3.6/dist-packages (from pandas->shap) (2018.9)\n",
            "Requirement already satisfied: python-dateutil>=2.7.3 in /usr/local/lib/python3.6/dist-packages (from pandas->shap) (2.8.1)\n",
            "Requirement already satisfied: joblib>=0.11 in /usr/local/lib/python3.6/dist-packages (from scikit-learn->shap) (1.0.0)\n",
            "Requirement already satisfied: six>=1.5 in /usr/local/lib/python3.6/dist-packages (from python-dateutil>=2.7.3->pandas->shap) (1.15.0)\n"
          ],
          "name": "stdout"
        }
      ]
    },
    {
      "cell_type": "code",
      "metadata": {
        "id": "U20S9SGZRdrH"
      },
      "source": [
        "N_BINS = 7\r\n",
        "INPUT_SIZE = 15"
      ],
      "execution_count": 2,
      "outputs": []
    },
    {
      "cell_type": "code",
      "metadata": {
        "colab": {
          "base_uri": "https://localhost:8080/"
        },
        "id": "G9gZFpM8AFm9",
        "outputId": "532507b9-7ce1-4aa3-b795-c329cd2a1fb1"
      },
      "source": [
        "X, y_c = make_regression(\r\n",
        "    n_samples=100000,\r\n",
        "    n_features=INPUT_SIZE,\r\n",
        "    n_informative=6,\r\n",
        "    bias=123.43,\r\n",
        ")\r\n",
        "\r\n",
        "\r\n",
        "discretizer = KBinsDiscretizer(\r\n",
        "    n_bins=N_BINS,\r\n",
        "    encode=\"onehot-dense\",\r\n",
        "    strategy=\"quantile\",\r\n",
        ")\r\n",
        "y = discretizer.fit_transform(y_c.reshape(-1, 1))\r\n",
        "\r\n",
        "X_train, X_test, y_train, y_test = train_test_split(X, y, test_size=2)\r\n",
        "\r\n",
        "X_train = X_train.astype(\"float32\")\r\n",
        "y_train = y_train.astype(\"float32\")\r\n",
        "X_test = X_test.astype(\"float32\")\r\n",
        "y_test = y_test.astype(\"float32\")\r\n",
        "bin_edges = discretizer.bin_edges_[0].astype(\"float32\")\r\n",
        "\r\n",
        "print(X_train.shape)\r\n",
        "print(y_train.shape)\r\n",
        "print(X_test.shape)\r\n",
        "print(y_test.shape)\r\n",
        "print(\"Bin edges \", bin_edges)"
      ],
      "execution_count": 3,
      "outputs": [
        {
          "output_type": "stream",
          "text": [
            "(99998, 15)\n",
            "(99998, 7)\n",
            "(2, 15)\n",
            "(2, 7)\n",
            "Bin edges  [-413.69955     -0.8312245   57.495453   102.59379    144.2777\n",
            "  189.16661    248.55219    650.0247   ]\n"
          ],
          "name": "stdout"
        }
      ]
    },
    {
      "cell_type": "code",
      "metadata": {
        "colab": {
          "base_uri": "https://localhost:8080/"
        },
        "id": "iRop4hB8JZeZ",
        "outputId": "bce0769e-b2ad-4069-c12c-f50b24eea1fe"
      },
      "source": [
        "model = tf.keras.models.Sequential([\r\n",
        "  tf.keras.layers.InputLayer(input_shape=(INPUT_SIZE,)),\r\n",
        "  tf.keras.layers.Dense(30, activation=\"relu\"),\r\n",
        "  tf.keras.layers.Dense(N_BINS, activation=\"softmax\"),\r\n",
        "])\r\n",
        "model.compile(\r\n",
        "    optimizer=tf.keras.optimizers.Adam(learning_rate=0.00001),\r\n",
        "    loss=tf.keras.losses.CategoricalCrossentropy(),\r\n",
        ")\r\n",
        "model.summary()"
      ],
      "execution_count": 4,
      "outputs": [
        {
          "output_type": "stream",
          "text": [
            "Model: \"sequential\"\n",
            "_________________________________________________________________\n",
            "Layer (type)                 Output Shape              Param #   \n",
            "=================================================================\n",
            "dense (Dense)                (None, 30)                480       \n",
            "_________________________________________________________________\n",
            "dense_1 (Dense)              (None, 7)                 217       \n",
            "=================================================================\n",
            "Total params: 697\n",
            "Trainable params: 697\n",
            "Non-trainable params: 0\n",
            "_________________________________________________________________\n"
          ],
          "name": "stdout"
        }
      ]
    },
    {
      "cell_type": "code",
      "metadata": {
        "colab": {
          "base_uri": "https://localhost:8080/"
        },
        "id": "BdY75LO3Qebf",
        "outputId": "c6b4898a-65f8-4b7c-e6da-aefd95149519"
      },
      "source": [
        "model.fit(\r\n",
        "    x=X_train,\r\n",
        "    y=y_train,\r\n",
        "    epochs=1,\r\n",
        "    batch_size=512,\r\n",
        ")"
      ],
      "execution_count": 5,
      "outputs": [
        {
          "output_type": "stream",
          "text": [
            "196/196 [==============================] - 1s 1ms/step - loss: 2.1376\n"
          ],
          "name": "stdout"
        },
        {
          "output_type": "execute_result",
          "data": {
            "text/plain": [
              "<tensorflow.python.keras.callbacks.History at 0x7f4b67f16668>"
            ]
          },
          "metadata": {
            "tags": []
          },
          "execution_count": 5
        }
      ]
    },
    {
      "cell_type": "code",
      "metadata": {
        "colab": {
          "base_uri": "https://localhost:8080/"
        },
        "id": "zDGWYfkpS5fo",
        "outputId": "2ecd90db-bbf3-4c78-dd1a-900961d2e7d4"
      },
      "source": [
        "predictions = model.predict(X_test)\r\n",
        "print(predictions.shape)"
      ],
      "execution_count": 6,
      "outputs": [
        {
          "output_type": "stream",
          "text": [
            "(2, 7)\n"
          ],
          "name": "stdout"
        }
      ]
    },
    {
      "cell_type": "code",
      "metadata": {
        "colab": {
          "base_uri": "https://localhost:8080/"
        },
        "id": "In0m1_wZZ3mc",
        "outputId": "0f8f97b8-0126-470c-fca9-77c772ebe639"
      },
      "source": [
        "print(\"Probability density\", predictions[0].tolist())"
      ],
      "execution_count": 7,
      "outputs": [
        {
          "output_type": "stream",
          "text": [
            "Probability density [0.1556439995765686, 0.08206197619438171, 0.10242743790149689, 0.3167668879032135, 0.18893329799175262, 0.04446696117520332, 0.10969946533441544]\n"
          ],
          "name": "stdout"
        }
      ]
    },
    {
      "cell_type": "code",
      "metadata": {
        "id": "G_npNZ3rBKEW"
      },
      "source": [
        "quantized_dist = tfp.distributions.MixtureSameFamily(\n",
        "    mixture_distribution=tfp.distributions.Categorical(probs=predictions[0]),\n",
        "    components_distribution=tfp.distributions.Uniform(low=bin_edges[:-1], high=bin_edges[1:])\n",
        ")"
      ],
      "execution_count": 8,
      "outputs": []
    },
    {
      "cell_type": "code",
      "metadata": {
        "colab": {
          "base_uri": "https://localhost:8080/",
          "height": 265
        },
        "id": "6wgrlCRPDRL1",
        "outputId": "e2862559-2296-4a99-bb41-79012fd7da9d"
      },
      "source": [
        "samples = quantized_dist.sample(sample_shape=(1000000,))\n",
        "plt.hist(samples, bins=1000)\n",
        "plt.show()"
      ],
      "execution_count": 9,
      "outputs": [
        {
          "output_type": "display_data",
          "data": {
            "image/png": "[encoded data removed]",
            "text/plain": [
              "<Figure size 432x288 with 1 Axes>"
            ]
          },
          "metadata": {
            "tags": [],
            "needs_background": "light"
          }
        }
      ]
    },
    {
      "cell_type": "code",
      "metadata": {
        "colab": {
          "base_uri": "https://localhost:8080/"
        },
        "id": "lOD4xuHeFY3n",
        "outputId": "613287f7-7938-43b3-a06a-0bb3166d812b"
      },
      "source": [
        "quantized_dist.cdf(0.0)\n",
        "#quantized_dist.quantile(0.5)"
      ],
      "execution_count": 10,
      "outputs": [
        {
          "output_type": "execute_result",
          "data": {
            "text/plain": [
              "<tf.Tensor: shape=(), dtype=float32, numpy=0.15681346>"
            ]
          },
          "metadata": {
            "tags": []
          },
          "execution_count": 10
        }
      ]
    },
    {
      "cell_type": "code",
      "metadata": {
        "colab": {
          "base_uri": "https://localhost:8080/"
        },
        "id": "U5mFaPUWIaql",
        "outputId": "97f0c390-f14d-43da-8a13-76cb18b60f56"
      },
      "source": [
        "def sampled_median(X, bin_edges, model):\n",
        "  probabilities = model(X)\n",
        "  batched_bin_edges = np.broadcast_to(bin_edges, (X.shape[0], N_BINS + 1))\n",
        "  quantized_dist = tfp.distributions.MixtureSameFamily(\n",
        "    mixture_distribution=tfp.distributions.Categorical(probs=probabilities),\n",
        "    components_distribution=tfp.distributions.Uniform(low=batched_bin_edges[:, :-1], high=batched_bin_edges[:, 1:])\n",
        "  )\n",
        "\n",
        "  return tfp.stats.percentile(quantized_dist.sample(100000), 50.0, axis=0)\n",
        "\n",
        "\n",
        "sampled_median(X_test, bin_edges, model)"
      ],
      "execution_count": 11,
      "outputs": [
        {
          "output_type": "execute_result",
          "data": {
            "text/plain": [
              "<tf.Tensor: shape=(2,), dtype=float32, numpy=array([123.852684, 134.0031  ], dtype=float32)>"
            ]
          },
          "metadata": {
            "tags": []
          },
          "execution_count": 11
        }
      ]
    },
    {
      "cell_type": "code",
      "metadata": {
        "colab": {
          "base_uri": "https://localhost:8080/"
        },
        "id": "VH_nR6U7gFFX",
        "outputId": "f2491607-8286-4609-fc2e-f82d6afe1b28"
      },
      "source": [
        "def analytic_median(X, bin_edges, model):\n",
        "  probabilities = model(X)\n",
        "  bin_widths = np.diff(bin_edges)\n",
        "  bin_masses = probabilities * bin_widths\n",
        "  cum_bin_masses = tf.cumsum(bin_masses, axis=1)\n",
        "  median_mass = (cum_bin_masses[:, -1] + cum_bin_masses[:, 0]) / 2\n",
        "  median_mass = tf.expand_dims(median_mass, axis=1)\n",
        "  median_bin = tf.searchsorted(cum_bin_masses, median_mass)\n",
        "  print(tf.gather_nd(cum_bin_masses, median_bin, batch_dims=1).numpy().tolist())\n",
        "  print(median_mass.numpy().tolist())\n",
        "  print(tf.gather_nd(bin_masses, median_bin, batch_dims=1).numpy().tolist())\n",
        "  return median_bin\n",
        "\n",
        "res = analytic_median(X_test, bin_edges, model)\n",
        "print(res)"
      ],
      "execution_count": 14,
      "outputs": [
        {
          "output_type": "stream",
          "text": [
            "[142.03329467773438, 175.73928833007812]\n",
            "[[103.14688110351562], [127.27267456054688]]\n",
            "[44.04132080078125, 67.04411315917969]\n",
            "tf.Tensor(\n",
            "[[6]\n",
            " [6]], shape=(2, 1), dtype=int32)\n"
          ],
          "name": "stdout"
        }
      ]
    },
    {
      "cell_type": "markdown",
      "metadata": {
        "id": "6kiSNsuzat99"
      },
      "source": [
        ""
      ]
    },
    {
      "cell_type": "code",
      "metadata": {
        "colab": {
          "base_uri": "https://localhost:8080/"
        },
        "id": "xUJ3SC3Raukj",
        "outputId": "0161e709-03be-4799-8d1e-a410614e251d"
      },
      "source": [
        "np.broadcast_to(bin_edges, (3, 8)).shape"
      ],
      "execution_count": 13,
      "outputs": [
        {
          "output_type": "execute_result",
          "data": {
            "text/plain": [
              "(3, 8)"
            ]
          },
          "metadata": {
            "tags": []
          },
          "execution_count": 13
        }
      ]
    }
  ]
}